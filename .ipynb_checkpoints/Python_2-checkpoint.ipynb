{
 "cells": [
  {
   "cell_type": "code",
   "execution_count": 9,
   "metadata": {},
   "outputs": [
    {
     "name": "stdout",
     "output_type": "stream",
     "text": [
      "請輸入儲存即時新聞的資料夾名稱: apple\n",
      "\n",
      "資料夾目錄apple已存在\n",
      " 《蘋果好玩ING》11:45LIVE直播(980) 【慶富案】獵雷艦案懲處名單馮世寬：層級(13056) 浪浪不孤單！喵星人這麼抱閃瞎單身狗 【有片】周刊爆料偷吃林泓育與妻子發聲明(22617) 被王思聰誤當蕾哈娜女星反虧對方是「高仿 海倫清桃「我的謊言害到誰」許聖梅驚呆！(32953) ​政次辭職換來《勞基法》修法通過？ 岳母把家變垃圾山！網友驚：原來我家好乾淨 【有片】美日新版入札制度敲定大谷爭奪戰(3437) 【更新】羽超香港公開賽周天成首輪爆冷敗(4417) 南部23K、北部32K她問：該怎麼選？ 【竊資片】Uber：駭客竊走全球5700(20561) 陣亡美軍遺體再尋獲 【不知賈神怎麼想？】蘋果iPhone超威(1871) 錢包掉了沒錢坐火車「救急伯」竹北市區借(125) 吳敦義：與簡太郎見面起碼50次未談獵雷(31) 綠能汽車最吸引銀髮族？舊金山國際車展上跌 裕隆城開發新店人都在期待它(158) 專騙獨居老人詐欺慣犯：他們容易信任人(65) 獵雷艦案懲處名單國防部下午3點公布(243) 上警局報案卻外遇已婚警小三不甘被分手要(219) 買電動公務車卻租電池遭批預算亂編桃機總(100) 【鬥智片】夾不到就用吸的男瞎掰：摩擦玻(832) 慶富案還有陳菊錄音檔？陳菊：我一向磊落(585) Escort用了新漆技術不啵亮就要打屁(173) 民眾中獎機會沒了？立院擬專案討論千元以下(7243) ​三寶搶快逆向行駛三人受傷送醫  (384) 大谷翔平申請入札合約最快聖誕節前搞定(320) 花蓮市長紋眉「喜上眉梢」妻子也帶來好孕 婚宴白吃婦是黨員?時代力量澄清：與我們(5469)\n",
      " 《蘋果好玩ING》11:45LIVE直播(980) 【慶富案】獵雷艦案懲處名單馮世寬：層級(13056) 浪浪不孤單！喵星人這麼抱閃瞎單身狗 【有片】周刊爆料偷吃林泓育與妻子發聲明(22617) 被王思聰誤當蕾哈娜女星反虧對方是「高仿 海倫清桃「我的謊言害到誰」許聖梅驚呆！(32953) ​政次辭職換來《勞基法》修法通過？ 岳母把家變垃圾山！網友驚：原來我家好乾淨 【有片】美日新版入札制度敲定大谷爭奪戰(3437) 【更新】羽超香港公開賽周天成首輪爆冷敗(4417) 南部23K、北部32K她問：該怎麼選？ 【竊資片】Uber：駭客竊走全球5700(20561) 陣亡美軍遺體再尋獲 【不知賈神怎麼想？】蘋果iPhone超威(1871) 錢包掉了沒錢坐火車「救急伯」竹北市區借(125) 吳敦義：與簡太郎見面起碼50次未談獵雷(31) 綠能汽車最吸引銀髮族？舊金山國際車展上跌 裕隆城開發新店人都在期待它(158) 專騙獨居老人詐欺慣犯：他們容易信任人(65) 獵雷艦案懲處名單國防部下午3點公布(243) 上警局報案卻外遇已婚警小三不甘被分手要(219) 買電動公務車卻租電池遭批預算亂編桃機總(100) 【鬥智片】夾不到就用吸的男瞎掰：摩擦玻(832) 慶富案還有陳菊錄音檔？陳菊：我一向磊落(585) Escort用了新漆技術不啵亮就要打屁(173) 民眾中獎機會沒了？立院擬專案討論千元以下(7243) ​三寶搶快逆向行駛三人受傷送醫  (384) 大谷翔平申請入札合約最快聖誕節前搞定(320) 花蓮市長紋眉「喜上眉梢」妻子也帶來好孕 婚宴白吃婦是黨員?時代力量澄清：與我們(5469)\n"
     ]
    }
   ],
   "source": [
    "# 安裝套件\n",
    "import os\n",
    "import sys\n",
    "import requests\n",
    "import webbrowser\n",
    "from bs4 import BeautifulSoup\n",
    "from gtts import gTTS\n",
    "\n",
    "def main():\n",
    "    input_func = input          # otherwise use 'raw_input'\n",
    "    global CheckDir\n",
    "    CheckDir = input_func(\"請輸入儲存即時新聞的資料夾名稱: \")\n",
    "    print()\n",
    "\n",
    "    if os.path.exists(CheckDir):  # Checks if the dir exists\n",
    "        print(\"資料夾目錄\" + CheckDir + \"已存在\")\n",
    "    else:\n",
    "        print(\"不存在 \" + CheckDir + \"資料夾\")  # Output if no directory\n",
    "        print()\n",
    "        os.makedirs(CheckDir)  # Creates a new dir for the given name\n",
    "        print(\"已建立 \" + CheckDir + \"資料夾\")\n",
    "        \n",
    "\n",
    "def get_hotline_applenews(url): #爬蟲\n",
    "    resp = requests.get(url)\n",
    "    \n",
    "    if resp.status_code is 200:\n",
    "        resp.encoding = 'utf-8'\n",
    "        soup = BeautifulSoup(resp.text, 'html.parser')\n",
    "        scope = soup.select(\".rtddt h1\") #選取標題文字\n",
    "        \n",
    "        hot_lines = []\n",
    "        \n",
    "        for line in scope: #集成於一個list，後可回傳\n",
    "            hot_lines.append(line.text) \n",
    "        \n",
    "        hot_lines = [w.replace('\\u3000', '') for w in hot_lines] \n",
    "        hot_lines = [w.replace('...', '') for w in hot_lines]\n",
    "        return hot_lines\n",
    "        \n",
    "def translate_text_to_speech(text):\n",
    "    if text is not None:\n",
    "        tts=gTTS(text, lang='zh')\n",
    "        print(text)\n",
    "        tts.save(CheckDir + \"apply_news.mp3\")    \n",
    "\n",
    "\n",
    "if __name__ == '__main__':\n",
    "    main()       \n",
    "    apple_news_lines = get_hotline_applenews(\"https://tw.appledaily.com/new/realtime\")\n",
    "    i = 0\n",
    "    applenews_dicts = {}\n",
    "    while i < len(apple_news_lines):\n",
    "        applenews_dicts['title'] = apple_news_lines[i]\n",
    "        #print(\"Time[{}]: {}\".format(udnnews_dicts['time'], udnnews_dicts['title']))\n",
    "        i += 1\n",
    "    \n",
    "    all_lines = \"\"\n",
    "    for line in apple_news_lines:\n",
    "        all_lines += \" \"+str(line)\n",
    "    print(all_lines)\n",
    "    \n",
    "    \n",
    "    os.chdir(CheckDir)               #改變存檔路徑\n",
    "    \n",
    "    translate_text_to_speech(str(all_lines))\n",
    "    webbrowser.open(\"apply_news.mp3\")"
   ]
  }
 ],
 "metadata": {
  "kernelspec": {
   "display_name": "Python 3",
   "language": "python",
   "name": "python3"
  },
  "language_info": {
   "codemirror_mode": {
    "name": "ipython",
    "version": 3
   },
   "file_extension": ".py",
   "mimetype": "text/x-python",
   "name": "python",
   "nbconvert_exporter": "python",
   "pygments_lexer": "ipython3",
   "version": "3.6.2"
  }
 },
 "nbformat": 4,
 "nbformat_minor": 2
}
